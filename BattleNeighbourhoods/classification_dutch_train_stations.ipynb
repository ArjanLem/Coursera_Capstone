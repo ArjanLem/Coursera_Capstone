{
 "cells": [
  {
   "cell_type": "markdown",
   "metadata": {},
   "source": [
    "# Classification and analyzis of Dutch train stations"
   ]
  },
  {
   "cell_type": "markdown",
   "metadata": {},
   "source": [
    "##  Introduction"
   ]
  },
  {
   "cell_type": "markdown",
   "metadata": {},
   "source": [
    "The Netherlands have an extensive rail network with many stations.\n",
    "\n",
    "The last years more and more businesses and population are concentrating around stations. Also stations are extended with shops, horeca and office facilities to make them more attractive.\n",
    "\n",
    "Stations are very different: \n",
    "* Major hubs in big cities with many perons and many passengers. \n",
    "* Local stations in the country side close to a small town in the middle of the fields."
   ]
  },
  {
   "cell_type": "markdown",
   "metadata": {},
   "source": [
    "Dutch railnetwerk in 2018:"
   ]
  },
  {
   "cell_type": "markdown",
   "metadata": {},
   "source": [
    "<img src=\"./spoorkaart-2018.jpg\" alt=\"drawing\" width=\"500\"/>"
   ]
  },
  {
   "cell_type": "markdown",
   "metadata": {},
   "source": [
    "## Business Problem "
   ]
  },
  {
   "cell_type": "markdown",
   "metadata": {},
   "source": [
    "The question is what are good candidate stations to invest in facilities, like shops or horeca facilities.<br/>\n",
    "The anwser to this question helps an business invester to make the right investement decisions.<br/>\n",
    "The goal is analyse and cluster the trainstations in the Netherlands based on the characteristic of the stations and thier neighborhood."
   ]
  },
  {
   "cell_type": "markdown",
   "metadata": {},
   "source": [
    "## Data"
   ]
  },
  {
   "cell_type": "markdown",
   "metadata": {},
   "source": [
    "The required data is:\n",
    "1. the Dutch train stations and their coordinates\n",
    "2. the facilities at and around these train stations\n",
    "\n",
    "The data for point 1) is available at the NS API https://www.ns.nl/en/travel-information/ns-api. The NS is the major Dutch train operator. The API provides an Station section with endpoints to:\n",
    "* get a list and coordinates of the trainstations\n",
    "* get details per station.\n",
    "\n",
    "Regarding point 2) this information is available via the FourSquare API. Via this API we retrieve the facilities very close to the station. Secondly also we retrieve the facilities in the stations neighorhoud, e.g. like horeca and museums. The stations details endpoint of the NS API will also provide details for each station."
   ]
  },
  {
   "cell_type": "markdown",
   "metadata": {},
   "source": [
    "Example station data:"
   ]
  },
  {
   "cell_type": "code",
   "execution_count": 1,
   "metadata": {},
   "outputs": [
    {
     "data": {
      "text/html": [
       "<div>\n",
       "<style scoped>\n",
       "    .dataframe tbody tr th:only-of-type {\n",
       "        vertical-align: middle;\n",
       "    }\n",
       "\n",
       "    .dataframe tbody tr th {\n",
       "        vertical-align: top;\n",
       "    }\n",
       "\n",
       "    .dataframe thead th {\n",
       "        text-align: right;\n",
       "    }\n",
       "</style>\n",
       "<table border=\"1\" class=\"dataframe\">\n",
       "  <thead>\n",
       "    <tr style=\"text-align: right;\">\n",
       "      <th></th>\n",
       "      <th>Station</th>\n",
       "      <th>Code</th>\n",
       "      <th>Lat</th>\n",
       "      <th>Lon</th>\n",
       "      <th>Straat</th>\n",
       "      <th>Huisnummer</th>\n",
       "      <th>Postcode</th>\n",
       "      <th>Plaats</th>\n",
       "      <th>Land</th>\n",
       "    </tr>\n",
       "  </thead>\n",
       "  <tbody>\n",
       "    <tr>\n",
       "      <th>0</th>\n",
       "      <td>s-Hertogenbosch</td>\n",
       "      <td>HT</td>\n",
       "      <td>51.690480</td>\n",
       "      <td>5.293620</td>\n",
       "      <td>Stationspasserelle</td>\n",
       "      <td>10</td>\n",
       "      <td>5211 AZ</td>\n",
       "      <td>'s-Hertogenbosch</td>\n",
       "      <td>Netherlands</td>\n",
       "    </tr>\n",
       "    <tr>\n",
       "      <th>1</th>\n",
       "      <td>s-Hertogenbosch Oost</td>\n",
       "      <td>HTO</td>\n",
       "      <td>51.700554</td>\n",
       "      <td>5.318333</td>\n",
       "      <td>Zandzuigerstraat</td>\n",
       "      <td>101</td>\n",
       "      <td>5231 XW</td>\n",
       "      <td>'s-Hertogenbosch</td>\n",
       "      <td>Netherlands</td>\n",
       "    </tr>\n",
       "    <tr>\n",
       "      <th>2</th>\n",
       "      <td>t Harde</td>\n",
       "      <td>HDE</td>\n",
       "      <td>52.409168</td>\n",
       "      <td>5.893611</td>\n",
       "      <td>Eperweg</td>\n",
       "      <td>123</td>\n",
       "      <td>8084 HD</td>\n",
       "      <td>'t Harde</td>\n",
       "      <td>Netherlands</td>\n",
       "    </tr>\n",
       "    <tr>\n",
       "      <th>3</th>\n",
       "      <td>Aachen Hbf</td>\n",
       "      <td>AHBF</td>\n",
       "      <td>50.767800</td>\n",
       "      <td>6.091499</td>\n",
       "      <td>Bahnhofplatz</td>\n",
       "      <td>1</td>\n",
       "      <td>52064</td>\n",
       "      <td>Aachen</td>\n",
       "      <td>Germany</td>\n",
       "    </tr>\n",
       "    <tr>\n",
       "      <th>4</th>\n",
       "      <td>Aachen Rothe Erde</td>\n",
       "      <td>ARE</td>\n",
       "      <td>50.770176</td>\n",
       "      <td>6.116467</td>\n",
       "      <td>Adalbertsteinweg</td>\n",
       "      <td>284</td>\n",
       "      <td>52066</td>\n",
       "      <td>Aachen</td>\n",
       "      <td>Germany</td>\n",
       "    </tr>\n",
       "  </tbody>\n",
       "</table>\n",
       "</div>"
      ],
      "text/plain": [
       "                Station  Code        Lat       Lon              Straat  \\\n",
       "0       s-Hertogenbosch    HT  51.690480  5.293620  Stationspasserelle   \n",
       "1  s-Hertogenbosch Oost   HTO  51.700554  5.318333    Zandzuigerstraat   \n",
       "2               t Harde   HDE  52.409168  5.893611             Eperweg   \n",
       "3            Aachen Hbf  AHBF  50.767800  6.091499        Bahnhofplatz   \n",
       "4     Aachen Rothe Erde   ARE  50.770176  6.116467    Adalbertsteinweg   \n",
       "\n",
       "  Huisnummer Postcode            Plaats         Land  \n",
       "0         10  5211 AZ  's-Hertogenbosch  Netherlands  \n",
       "1        101  5231 XW  's-Hertogenbosch  Netherlands  \n",
       "2        123  8084 HD          't Harde  Netherlands  \n",
       "3          1    52064            Aachen      Germany  \n",
       "4        284    52066            Aachen      Germany  "
      ]
     },
     "execution_count": 1,
     "metadata": {},
     "output_type": "execute_result"
    }
   ],
   "source": [
    "import pandas as pd\n",
    "stations_df = pd.read_csv('ns_stations.csv')\n",
    "stations_df.head()"
   ]
  },
  {
   "cell_type": "markdown",
   "metadata": {},
   "source": [
    "In the Foursquare we explore the venues for the following sub-categories:\n",
    "* Arts & Entertainment (4d4b7104d754a06370d81259)\n",
    "* College & University (4d4b7105d754a06372d81259)\n",
    "* Event (4d4b7105d754a06373d81259)\n",
    "* Food (4d4b7105d754a06374d81259)\n",
    "* Nightlife Spot (4d4b7105d754a06376d81259)\n",
    "* Outdoors & Recreation (4d4b7105d754a06377d81259)\n",
    "* Professional & Other Places (4d4b7105d754a06375d81259)\n",
    "* Residence (4e67e38e036454776db1fb3a)\n",
    "* Shop & Service (4d4b7105d754a06378d81259)\n",
    "* Travel & Transport (4d4b7105d754a06379d81259)\n",
    "\n",
    "We’ll be querying the number of venues in each category in a 1000m radius around each train station. 1000m is a reasonable walking distance."
   ]
  },
  {
   "cell_type": "code",
   "execution_count": null,
   "metadata": {},
   "outputs": [],
   "source": []
  }
 ],
 "metadata": {
  "kernelspec": {
   "display_name": "Python 3",
   "language": "python",
   "name": "python3"
  },
  "language_info": {
   "codemirror_mode": {
    "name": "ipython",
    "version": 3
   },
   "file_extension": ".py",
   "mimetype": "text/x-python",
   "name": "python",
   "nbconvert_exporter": "python",
   "pygments_lexer": "ipython3",
   "version": "3.7.1"
  }
 },
 "nbformat": 4,
 "nbformat_minor": 2
}
